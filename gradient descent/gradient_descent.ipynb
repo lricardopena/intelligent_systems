{
 "cells": [
  {
   "cell_type": "code",
   "execution_count": 1,
   "metadata": {},
   "outputs": [
    {
     "name": "stdout",
     "output_type": "stream",
     "text": [
      "/bin/bash: nvs: line 1: syntax error: unexpected end of file\n",
      "/bin/bash: error importing function definition for `nvs'\n",
      "/bin/bash: nvsudo: line 1: syntax error: unexpected end of file\n",
      "/bin/bash: error importing function definition for `nvsudo'\n",
      "Collecting imageio\n",
      "  Downloading imageio-2.19.5-py3-none-any.whl (3.4 MB)\n",
      "\u001b[2K     \u001b[38;2;114;156;31m━━━━━━━━━━━━━━━━━━━━━━━━━━━━━━━━━━━━━━━━\u001b[0m \u001b[32m3.4/3.4 MB\u001b[0m \u001b[31m51.9 MB/s\u001b[0m eta \u001b[36m0:00:00\u001b[0m0m eta \u001b[36m0:00:01\u001b[0m\n",
      "\u001b[?25hRequirement already satisfied: numpy in /opt/python/3.10.4/lib/python3.10/site-packages (from imageio) (1.23.0)\n",
      "Requirement already satisfied: pillow>=8.3.2 in /opt/python/3.10.4/lib/python3.10/site-packages (from imageio) (9.1.1)\n",
      "Installing collected packages: imageio\n",
      "Successfully installed imageio-2.19.5\n"
     ]
    }
   ],
   "source": [
    "!pip install imageio\n",
    "import numpy as np\n",
    "import matplotlib.pyplot as plt\n",
    "import imageio.v2 as imageio\n",
    "import os\n",
    "\n",
    "\n",
    "def gradient_descent(start, gradient, learn_rate, max_iter, tol=0.01):\n",
    "  steps = [start] # history tracking\n",
    "  x = start\n",
    "\n",
    "  for _ in range(max_iter):\n",
    "    diff = learn_rate*gradient(x)\n",
    "    if np.abs(diff)<tol:\n",
    "      break    \n",
    "    x = x - diff\n",
    "    steps.append(x) # history tracing\n",
    "\n",
    "  return steps, x"
   ]
  },
  {
   "cell_type": "code",
   "execution_count": 6,
   "metadata": {},
   "outputs": [],
   "source": [
    "def func1(x):\n",
    "  return x**2-4*x+1\n",
    "\n",
    "def gradient_func1(x):\n",
    "  return 2*x - 4"
   ]
  },
  {
   "cell_type": "code",
   "execution_count": 27,
   "metadata": {},
   "outputs": [],
   "source": [
    "def func1(x):\n",
    "  return x**2-4*x+1\n",
    "\n",
    "def gradient_func1(x):\n",
    "  return 2*x - 4\n",
    "  \n",
    "learning_rate = 0.9\n",
    "history, result = gradient_descent(-6, gradient_func1, learning_rate, 100)"
   ]
  },
  {
   "cell_type": "code",
   "execution_count": 50,
   "metadata": {},
   "outputs": [],
   "source": [
    "def func1(x):\n",
    "  return x**4-2*x**3+2\n",
    "\n",
    "def gradient_func1(x):\n",
    "  try:\n",
    "    return 4*𝑥**3 - 6*𝑥**2\n",
    "  except Exception as e:\n",
    "    return 0\n",
    "  \n",
    "learning_rate = 0.3\n",
    "history, result = gradient_descent(-0.5, gradient_func1, learning_rate, 100)"
   ]
  },
  {
   "cell_type": "code",
   "execution_count": 49,
   "metadata": {},
   "outputs": [],
   "source": [
    "x = np.arange(-0.6, 2.2, 0.05)\n",
    "y = func1(x)\n",
    "\n",
    "filenames = ['first.png']\n",
    "\n",
    "plt.plot(x, y)\n",
    "plt.savefig('first.png')\n",
    "plt.close()\n",
    "\n",
    "x_historic = []\n",
    "for i, x_h in enumerate(history):\n",
    "    filename = f'{i}.png'\n",
    "    for _ in range(7):\n",
    "        filenames.append(filename)\n",
    "    plt.title(f'Learning Rate {learning_rate}\\nSteps{len(history)}')\n",
    "    x_historic.append(x_h)\n",
    "    plt.plot(x, y)\n",
    "    plt.plot(np.array(x_historic), func1(np.array(x_historic)), 'r*', label=f'x: {x_h:.3g}')\n",
    "    plt.plot(np.array(x_historic), func1(np.array(x_historic)), 'r')\n",
    "    plt.legend()  \n",
    "   # save frame\n",
    "    plt.savefig(filename)\n",
    "    plt.close()\n",
    "\n",
    "for _ in range(17):\n",
    "        filenames.append(filename)\n",
    "with imageio.get_writer('mygif.gif', mode='I') as writer:\n",
    "    for filename in filenames:\n",
    "        image = imageio.imread(filename)\n",
    "        writer.append_data(image)\n",
    "\n",
    "# Remove files\n",
    "for filename in set(filenames):\n",
    "    os.remove(filename)"
   ]
  },
  {
   "cell_type": "code",
   "execution_count": 6,
   "metadata": {},
   "outputs": [
    {
     "data": {
      "text/plain": [
       "9"
      ]
     },
     "execution_count": 6,
     "metadata": {},
     "output_type": "execute_result"
    }
   ],
   "source": [
    "history[0]"
   ]
  },
  {
   "cell_type": "code",
   "execution_count": null,
   "metadata": {},
   "outputs": [],
   "source": []
  }
 ],
 "metadata": {
  "kernelspec": {
   "display_name": "Python 3.10.4 64-bit",
   "language": "python",
   "name": "python3"
  },
  "language_info": {
   "codemirror_mode": {
    "name": "ipython",
    "version": 3
   },
   "file_extension": ".py",
   "mimetype": "text/x-python",
   "name": "python",
   "nbconvert_exporter": "python",
   "pygments_lexer": "ipython3",
   "version": "3.10.4"
  },
  "orig_nbformat": 4,
  "vscode": {
   "interpreter": {
    "hash": "4f946df053fbf2b937619d3c5458e7af74262f9a954d8797ba0b27400bcafe06"
   }
  }
 },
 "nbformat": 4,
 "nbformat_minor": 2
}
