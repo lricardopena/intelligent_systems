{
 "cells": [
  {
   "cell_type": "code",
   "execution_count": 1,
   "metadata": {},
   "outputs": [],
   "source": [
    "from contextlib import suppress\n",
    "\n",
    "\n",
    "nodes = ['WA', 'NT', 'Q', 'NSW', 'V', 'SA', 'T']\n",
    "# WA = Western Australia\n",
    "# NT = Northen Territory\n",
    "# SA = South Australia\n",
    "# Q = Queensland\n",
    "# NSW = New South Wales\n",
    "# V = Victoria\n",
    "# T = Tasmania\n",
    "COLORS = ['RED', 'YELLOW', 'GREEN']\n",
    "ADJACENCY = {\n",
    "    'WA': ['NT', 'SA'],\n",
    "    'NT': ['WA', 'SA', 'Q'],\n",
    "    'Q': ['NT', 'SA', 'NSW'],\n",
    "    'NSW': ['SA', 'Q', 'V'],\n",
    "    'V': ['SA', 'NSW'],\n",
    "    'SA': ['WA', 'NT', 'Q', 'NSW', 'V'],\n",
    "    'T': []\n",
    "}\n",
    "\n",
    "# Inicializacion de soluciones\n",
    "possible_solutions = {states: COLORS.copy() for states in nodes}"
   ]
  },
  {
   "cell_type": "code",
   "execution_count": 2,
   "metadata": {},
   "outputs": [],
   "source": [
    "def constrain_solutions(possible_solution: dict, current_solution: tuple):\n",
    "    state, color = current_solution\n",
    "    neighbors = ADJACENCY[state].copy()\n",
    "    restricted_solutions = possible_solution.copy()\n",
    "    # Iteramos sobre todos los vecinos\n",
    "    for neighbor in neighbors:\n",
    "        # Si ese vecino esta en las soluciones restringidas\n",
    "        if neighbor in restricted_solutions:\n",
    "            # Quitar el color de las posibles soluciones\n",
    "            possible_colors = restricted_solutions[neighbor].copy()\n",
    "            with suppress(ValueError):\n",
    "                possible_colors.remove(color)\n",
    "\n",
    "            restricted_solutions[neighbor] = possible_colors\n",
    "    return restricted_solutions\n",
    "\n",
    "\n",
    "def solve_color_map(possible_solution: dict):\n",
    "    # Si no hay mas estados por buscar solucion, regresamos una lista vacia\n",
    "    if len(possible_solution) == 0:\n",
    "        return []\n",
    "\n",
    "    # Seleccionar el primer estado y posibles colores de => estados_posibles_valores\n",
    "    state, possible_colors = list(possible_solution.items())[0]\n",
    "\n",
    "    # Borramos de los estados posibles ese estado ya que asignaeremos una solucion a este estado\n",
    "    next_possible_solution = possible_solution.copy()\n",
    "    del next_possible_solution[state]\n",
    "\n",
    "    # Iteramos sobre todos los posibles colores (posibles soluciones de ese estado)\n",
    "    for color in possible_colors:\n",
    "        # Solucion actual este par\n",
    "        current_solution = (state, color)\n",
    "        # Remover soluciones que no cumplan las restricciones\n",
    "        restricted_solutions = constrain_solutions(next_possible_solution, current_solution)\n",
    "        # Revisamos si todas las soluciones restringidas cumplen con que tienen al menos una posibilidad\n",
    "        with_solution = all([len(solution_color) > 0 for _, solution_color in restricted_solutions.items()])\n",
    "        if not with_solution:\n",
    "            # Si no tenemos solucion, probamos con el siguiente color\n",
    "            continue\n",
    "        # Mandamos llamar recursivamente a resolver con las posibles soluciones\n",
    "        final_solution = solve_color_map(restricted_solutions)\n",
    "        if final_solution is None:\n",
    "            # Si no tenemos una solucion, buscamos con el siguiente color\n",
    "            continue\n",
    "        # Si tenemos una solucion agregamos la solucion actual a la solucion devuelta y esa es la solucion\n",
    "        final_solution.append(current_solution)\n",
    "        return final_solution\n",
    "    # Si llegamos aqui probamos todos los posibles colores y no tiene solucion\n",
    "    return None"
   ]
  },
  {
   "cell_type": "code",
   "execution_count": 3,
   "metadata": {},
   "outputs": [
    {
     "data": {
      "text/plain": [
       "[('T', 'RED'),\n",
       " ('SA', 'GREEN'),\n",
       " ('V', 'RED'),\n",
       " ('NSW', 'YELLOW'),\n",
       " ('Q', 'RED'),\n",
       " ('NT', 'YELLOW'),\n",
       " ('WA', 'RED')]"
      ]
     },
     "execution_count": 3,
     "metadata": {},
     "output_type": "execute_result"
    }
   ],
   "source": [
    "solve_color_map(possible_solutions)"
   ]
  }
 ],
 "metadata": {
  "kernelspec": {
   "display_name": "Python 3.10.4 64-bit",
   "language": "python",
   "name": "python3"
  },
  "language_info": {
   "codemirror_mode": {
    "name": "ipython",
    "version": 3
   },
   "file_extension": ".py",
   "mimetype": "text/x-python",
   "name": "python",
   "nbconvert_exporter": "python",
   "pygments_lexer": "ipython3",
   "version": "3.10.4"
  },
  "orig_nbformat": 4,
  "vscode": {
   "interpreter": {
    "hash": "4f946df053fbf2b937619d3c5458e7af74262f9a954d8797ba0b27400bcafe06"
   }
  }
 },
 "nbformat": 4,
 "nbformat_minor": 2
}
